{
 "cells": [
  {
   "cell_type": "markdown",
   "metadata": {},
   "source": [
    "___\n",
    "\n",
    "<a href='https://www.udemy.com/user/joseportilla/'><img src='../Pierian_Data_Logo.png'/></a>\n",
    "___\n",
    "<center><em>Content Copyright by Pierian Data</em></center>"
   ]
  },
  {
   "cell_type": "markdown",
   "metadata": {},
   "source": [
    "# Milestone Project 1: Walkthrough Steps Workbook\n",
    "\n",
    "Below is a set of steps for you to follow to try to create the Tic Tac Toe Milestone Project game!"
   ]
  },
  {
   "cell_type": "markdown",
   "metadata": {},
   "source": [
    "#### Some suggested tools before you get started:\n",
    "To take input from a user:\n",
    "\n",
    "    player1 = input(\"Please pick a marker 'X' or 'O'\")\n",
    "    \n",
    "Note that input() takes in a string. If you need an integer value, use\n",
    "\n",
    "    position = int(input('Please enter a number'))\n",
    "    \n",
    "<br>To clear the screen between moves:\n",
    "\n",
    "    from IPython.display import clear_output\n",
    "    clear_output()\n",
    "    \n",
    "Note that clear_output() will only work in jupyter. To clear the screen in other IDEs, consider:\n",
    "\n",
    "    print('\\n'*100)\n",
    "    \n",
    "This scrolls the previous board up out of view. Now on to the program!"
   ]
  },
  {
   "cell_type": "markdown",
   "metadata": {},
   "source": [
    "**Step 1: Write a function that can print out a board. Set up your board as a list, where each index 1-9 corresponds with a number on a number pad, so you get a 3 by 3 board representation.**"
   ]
  },
  {
   "cell_type": "code",
   "execution_count": 2,
   "metadata": {},
   "outputs": [],
   "source": [
    "from IPython.display import clear_output\n",
    "\n",
    "def display_board(board):\n",
    "    clear_output()\n",
    "    print('{} | {} | {}'.format(board[7], board[8], board[9]))\n",
    "    print('----------')\n",
    "    print('{} | {} | {}'.format(board[4], board[5], board[6]))\n",
    "    print('----------')\n",
    "    print('{} | {} | {}'.format(board[1], board[2], board[3]))"
   ]
  },
  {
   "cell_type": "markdown",
   "metadata": {},
   "source": [
    "**TEST Step 1:** run your function on a test version of the board list, and make adjustments as necessary"
   ]
  },
  {
   "cell_type": "code",
   "execution_count": 3,
   "metadata": {},
   "outputs": [
    {
     "name": "stdout",
     "output_type": "stream",
     "text": [
      "  |   |  \n",
      "----------\n",
      "  |   |  \n",
      "----------\n",
      "  |   |  \n"
     ]
    }
   ],
   "source": [
    "test_board = [' '] * 10\n",
    "display_board(test_board)"
   ]
  },
  {
   "cell_type": "markdown",
   "metadata": {},
   "source": [
    "**Step 2: Write a function that can take in a player input and assign their marker as 'X' or 'O'. Think about using *while* loops to continually ask until you get a correct answer.**"
   ]
  },
  {
   "cell_type": "code",
   "execution_count": 4,
   "metadata": {},
   "outputs": [],
   "source": [
    "def player_input():\n",
    "    game_marker = ''\n",
    "    \n",
    "    # keep asking to choose X or O\n",
    "    while game_marker not in ['X', 'O']:\n",
    "        game_marker = input(\"Player 1, choose 'X' or 'O': \")\n",
    "    \n",
    "    player1 = game_marker\n",
    "    player2 = ''\n",
    "    \n",
    "    if player1 == 'X':\n",
    "        player2 = 'O'\n",
    "    else:\n",
    "        player2 = 'X'\n",
    "    \n",
    "    return (player1, player2)\n",
    "    "
   ]
  },
  {
   "cell_type": "markdown",
   "metadata": {},
   "source": [
    "**TEST Step 2:** run the function to make sure it returns the desired output"
   ]
  },
  {
   "cell_type": "code",
   "execution_count": 6,
   "metadata": {},
   "outputs": [
    {
     "name": "stdout",
     "output_type": "stream",
     "text": [
      "Player 1, choose 'X' or 'O': \n",
      "Player 1, choose 'X' or 'O': X\n"
     ]
    }
   ],
   "source": [
    "p1_marker, p2_marker = player_input()"
   ]
  },
  {
   "cell_type": "markdown",
   "metadata": {},
   "source": [
    "**Step 3: Write a function that takes in the board list object, a marker ('X' or 'O'), and a desired position (number 1-9) and assigns it to the board.**"
   ]
  },
  {
   "cell_type": "code",
   "execution_count": 13,
   "metadata": {},
   "outputs": [],
   "source": [
    "def place_marker(board, marker, position):\n",
    "    board[position] = marker"
   ]
  },
  {
   "cell_type": "markdown",
   "metadata": {},
   "source": [
    "**TEST Step 3:** run the place marker function using test parameters and display the modified board"
   ]
  },
  {
   "cell_type": "code",
   "execution_count": 14,
   "metadata": {},
   "outputs": [
    {
     "name": "stdout",
     "output_type": "stream",
     "text": [
      "  | $ |  \n",
      "----------\n",
      "  |   |  \n",
      "----------\n",
      "  |   |  \n"
     ]
    }
   ],
   "source": [
    "test_board = [' '] * 10\n",
    "print(test_board)\n",
    "place_marker(test_board,'$',8)\n",
    "display_board(test_board)"
   ]
  },
  {
   "cell_type": "markdown",
   "metadata": {},
   "source": [
    "**Step 4: Write a function that takes in a board and a mark (X or O) and then checks to see if that mark has won. **"
   ]
  },
  {
   "cell_type": "code",
   "execution_count": 15,
   "metadata": {},
   "outputs": [],
   "source": [
    "def win_check(board, mark):\n",
    "    # win checks\n",
    "    row1 = board[7] == mark and board[8] == mark and board[9] == mark\n",
    "    row2 = board[4] == mark and board[5] == mark and board[6] == mark\n",
    "    row3 = board[1] == mark and board[2] == mark and board[3] == mark\n",
    "    diagonal1 = board[7] == mark and board[5] == mark and board[3] == mark\n",
    "    diagonal2 = board[9] == mark and board[5] == mark and board[1] == mark\n",
    "    col1 = board[7] == mark and board[4] == mark and board[1] == mark\n",
    "    col2 = board[8] == mark and board[5] == mark and board[2] == mark\n",
    "    col3 = board[9] == mark and board[6] == mark and board[3] == mark\n",
    "    \n",
    "    return row1 or row2 or row3 or diagonal1 or diagonal2 or col1 or col2 or col3"
   ]
  },
  {
   "cell_type": "markdown",
   "metadata": {},
   "source": [
    "**TEST Step 4:** run the win_check function against our test_board - it should return True"
   ]
  },
  {
   "cell_type": "code",
   "execution_count": 16,
   "metadata": {},
   "outputs": [
    {
     "data": {
      "text/plain": [
       "True"
      ]
     },
     "execution_count": 16,
     "metadata": {},
     "output_type": "execute_result"
    }
   ],
   "source": [
    "test_board = [' ', 'X', 'X', 'X', ' ', ' ', ' ' , ' ', ' ', ' ']\n",
    "win_check(test_board,'X')"
   ]
  },
  {
   "cell_type": "markdown",
   "metadata": {},
   "source": [
    "**Step 5: Write a function that uses the random module to randomly decide which player goes first. You may want to lookup random.randint() Return a string of which player went first.**"
   ]
  },
  {
   "cell_type": "code",
   "execution_count": 17,
   "metadata": {},
   "outputs": [],
   "source": [
    "import random\n",
    "\n",
    "def choose_first():\n",
    "    return 'Player {}'.format(random.randint(1,2))"
   ]
  },
  {
   "cell_type": "markdown",
   "metadata": {},
   "source": [
    "**Step 6: Write a function that returns a boolean indicating whether a space on the board is freely available.**"
   ]
  },
  {
   "cell_type": "code",
   "execution_count": 72,
   "metadata": {},
   "outputs": [
    {
     "data": {
      "text/plain": [
       "False"
      ]
     },
     "execution_count": 72,
     "metadata": {},
     "output_type": "execute_result"
    }
   ],
   "source": [
    "def space_check(board, position):\n",
    "    return board[position] == ' '\n",
    "\n",
    "my_board = [' ', 'X', ' ', ' ', ' ', ' ', ' ', ' ', ' ', ' ']\n",
    "space_check(my_board, 2)\n",
    "space_check(my_board, 1)"
   ]
  },
  {
   "cell_type": "markdown",
   "metadata": {},
   "source": [
    "**Step 7: Write a function that checks if the board is full and returns a boolean value. True if full, False otherwise.**"
   ]
  },
  {
   "cell_type": "code",
   "execution_count": 102,
   "metadata": {},
   "outputs": [
    {
     "data": {
      "text/plain": [
       "True"
      ]
     },
     "execution_count": 102,
     "metadata": {},
     "output_type": "execute_result"
    }
   ],
   "source": [
    "def full_board_check(board):\n",
    "    for item in board:\n",
    "        if item == ' ':\n",
    "            return False\n",
    "    \n",
    "    return True\n",
    "\n",
    "my_board = ['#', 'X', '0', '0', 'X', 'X', 'X', 'X', 'X', 'X']\n",
    "full_board_check(my_board)"
   ]
  },
  {
   "cell_type": "markdown",
   "metadata": {},
   "source": [
    "**Step 8: Write a function that asks for a player's next position (as a number 1-9) and then uses the function from step 6 to check if it's a free position. If it is, then return the position for later use.**"
   ]
  },
  {
   "cell_type": "code",
   "execution_count": 83,
   "metadata": {},
   "outputs": [
    {
     "name": "stdout",
     "output_type": "stream",
     "text": [
      "Choose the position [1 - 9]: 3\n"
     ]
    },
    {
     "data": {
      "text/plain": [
       "3"
      ]
     },
     "execution_count": 83,
     "metadata": {},
     "output_type": "execute_result"
    }
   ],
   "source": [
    "def player_choice(board):\n",
    "    position = 0\n",
    "    \n",
    "    while position not in [1, 2, 3, 4 ,5 ,6 ,7 ,8, 9] or not space_check(board, position):\n",
    "        position = int(input('Choose the position [1 - 9]: '))\n",
    "        \n",
    "    return position\n",
    "\n",
    "my_board = [' ', 'X', ' ', ' ', ' ', ' ', ' ', ' ', ' ', ' ']\n",
    "player_choice(my_board)"
   ]
  },
  {
   "cell_type": "markdown",
   "metadata": {},
   "source": [
    "**Step 9: Write a function that asks the player if they want to play again and returns a boolean True if they do want to play again.**"
   ]
  },
  {
   "cell_type": "code",
   "execution_count": 84,
   "metadata": {},
   "outputs": [],
   "source": [
    "def replay():\n",
    "    choice = ''\n",
    "    \n",
    "    while choice not in ['Y', 'y', 'N', 'n']:\n",
    "        choice = input('You want to play again? [Y/N]: ')\n",
    "        \n",
    "    return choice == 'Y' or choice == 'y'"
   ]
  },
  {
   "cell_type": "markdown",
   "metadata": {
    "collapsed": true
   },
   "source": [
    "**Step 10: Here comes the hard part! Use while loops and the functions you've made to run the game!**"
   ]
  },
  {
   "cell_type": "code",
   "execution_count": null,
   "metadata": {},
   "outputs": [
    {
     "name": "stdout",
     "output_type": "stream",
     "text": [
      "  | O | O\n",
      "----------\n",
      "O | X | X\n",
      "----------\n",
      "  |   | X\n",
      "Player 1's turn...\n"
     ]
    }
   ],
   "source": [
    "print('Welcome to Tic Tac Toe!')\n",
    "\n",
    "while True:\n",
    "    # Set the game up here\n",
    "    board = [' '] * 10\n",
    "    board[0] = '#'\n",
    "    game_on = True\n",
    "    current_player = choose_first()\n",
    "    \n",
    "    while game_on:\n",
    "        # Player 1 Turn\n",
    "        if current_player == 'Player 1':\n",
    "            print(\"Player 1's turn...\")\n",
    "            position = player_choice(board)\n",
    "            place_marker(board, 'X', position)\n",
    "            \n",
    "            display_board(board)\n",
    "            if win_check(board, 'X'):\n",
    "                print(current_player + ' won!!!')\n",
    "                break\n",
    "                \n",
    "            current_player = 'Player 2'\n",
    "            \n",
    "        # Player2's turn.\n",
    "        if current_player == 'Player 2':\n",
    "            print(\"Player 2's turn...\")\n",
    "            position = player_choice(board)\n",
    "            place_marker(board, 'O', position)\n",
    "            \n",
    "            display_board(board)\n",
    "            if win_check(board, 'O'):\n",
    "                print(current_player + ' won!!!')\n",
    "                break\n",
    "            \n",
    "            current_player = 'Player 1'\n",
    "            \n",
    "        game_on = not full_board_check(board)\n",
    "\n",
    "    if not replay():\n",
    "        break\n",
    "    else:\n",
    "        # reset the board\n",
    "        board = [' '] * 10\n",
    "        board[0] = '#'"
   ]
  },
  {
   "cell_type": "markdown",
   "metadata": {
    "collapsed": true
   },
   "source": [
    "## Good Job!"
   ]
  },
  {
   "cell_type": "code",
   "execution_count": null,
   "metadata": {},
   "outputs": [],
   "source": []
  }
 ],
 "metadata": {
  "kernelspec": {
   "display_name": "Python 3",
   "language": "python",
   "name": "python3"
  }
 },
 "nbformat": 4,
 "nbformat_minor": 1
}
